{
 "cells": [
  {
   "cell_type": "code",
   "execution_count": 1,
   "metadata": {},
   "outputs": [],
   "source": [
    "import time\n",
    "import numpy as np\n",
    "import sys"
   ]
  },
  {
   "cell_type": "code",
   "execution_count": 2,
   "metadata": {},
   "outputs": [],
   "source": [
    "import data_fitting as f    # functions to determine centroid, angle, and slope.\n",
    "import profile_scan as p    # functions to create a surface profile"
   ]
  },
  {
   "cell_type": "code",
   "execution_count": 3,
   "metadata": {},
   "outputs": [],
   "source": [
    "import instrumental                              # instrumental used to install camera drivers\n",
    "\n",
    "from instrumental.drivers.cameras import uc480   # imports ThorLabs uc480 camera driver\n",
    "cam = uc480.UC480_Camera() \n",
    "cam.set_defaults(exposure_time = '0.000001s')    # exposure time 1 microsecond to prevent saturation"
   ]
  },
  {
   "cell_type": "code",
   "execution_count": 7,
   "metadata": {},
   "outputs": [],
   "source": [
    "import thorlabs_apt as apt                      # drivers for motorized linear stages\n",
    "                                                # will cause a python crash if run with stages already initialized"
   ]
  },
  {
   "cell_type": "code",
   "execution_count": 8,
   "metadata": {},
   "outputs": [
    {
     "data": {
      "text/plain": [
       "[(31, 27002870), (31, 27002907)]"
      ]
     },
     "execution_count": 8,
     "metadata": {},
     "output_type": "execute_result"
    }
   ],
   "source": [
    "apt.list_available_devices()                    # lists serial numbers of motorized linear stages\n",
    "                                                # if null array returned, restart jupyter notebook from command prompt"
   ]
  },
  {
   "cell_type": "code",
   "execution_count": 6,
   "metadata": {},
   "outputs": [],
   "source": [
    "stage_x = apt.Motor(27002907)                 # initializes stages by serial number\n",
    "stage_y = apt.Motor(27002870)\n",
    "\n",
    "stage_x.enable()\n",
    "stage_y.enable()\n",
    "\n",
    "stage_x.move_home(True)                       # moves stages to 0.0000, takes ~10s each stage\n",
    "stage_y.move_home(True)"
   ]
  },
  {
   "cell_type": "code",
   "execution_count": 9,
   "metadata": {
    "scrolled": true
   },
   "outputs": [],
   "source": [
    "# Surface Scanning Inputs\n",
    "\n",
    "num_samples = 10                               # total number of scan positions\n",
    "num_tests_per_sample = 5                       # number of tests per position\n",
    "x = np.zeros((num_samples,num_tests_per_sample))\n",
    "y = np.zeros((num_samples,num_tests_per_sample))\n",
    "dx = np.zeros((num_samples,num_tests_per_sample))\n",
    "dy = np.zeros((num_samples,num_tests_per_sample))"
   ]
  },
  {
   "cell_type": "code",
   "execution_count": 10,
   "metadata": {
    "scrolled": true
   },
   "outputs": [
    {
     "name": "stdout",
     "output_type": "stream",
     "text": [
      "Sample number 1:\n",
      "Enter x-position of mirror:0.1\n",
      "Enter y-position of mirror:0.2\n",
      "     Test 1\n",
      "     Test 2\n",
      "     Test 3\n",
      "     Test 4\n",
      "     Test 5\n",
      "Sample number 2:\n",
      "Enter x-position of mirror:0.9\n",
      "Enter y-position of mirror:0.7\n",
      "     Test 1\n",
      "     Test 2\n",
      "     Test 3\n",
      "     Test 4\n",
      "     Test 5\n",
      "Sample number 3:\n",
      "Enter x-position of mirror:0.8\n",
      "Enter y-position of mirror:0.7\n",
      "     Test 1\n",
      "     Test 2\n",
      "     Test 3\n",
      "     Test 4\n",
      "     Test 5\n",
      "Sample number 4:\n",
      "Enter x-position of mirror:0.6\n",
      "Enter y-position of mirror:0.5\n",
      "     Test 1\n",
      "     Test 2\n",
      "     Test 3\n",
      "     Test 4\n",
      "     Test 5\n",
      "Sample number 5:\n",
      "Enter x-position of mirror:0.6\n",
      "Enter y-position of mirror:0.4\n",
      "     Test 1\n",
      "     Test 2\n",
      "     Test 3\n",
      "     Test 4\n",
      "     Test 5\n",
      "Sample number 6:\n",
      "Enter x-position of mirror:0.8\n",
      "Enter y-position of mirror:0.9\n",
      "     Test 1\n",
      "     Test 2\n",
      "     Test 3\n",
      "     Test 4\n",
      "     Test 5\n",
      "Sample number 7:\n",
      "Enter x-position of mirror:1\n",
      "Enter y-position of mirror:1.1\n",
      "     Test 1\n",
      "     Test 2\n",
      "     Test 3\n",
      "     Test 4\n",
      "     Test 5\n",
      "Sample number 8:\n",
      "Enter x-position of mirror:3\n",
      "Enter y-position of mirror:4\n",
      "     Test 1\n",
      "     Test 2\n",
      "     Test 3\n",
      "     Test 4\n",
      "     Test 5\n",
      "Sample number 9:\n",
      "Enter x-position of mirror:5\n",
      "Enter y-position of mirror:3\n",
      "     Test 1\n",
      "     Test 2\n",
      "     Test 3\n",
      "     Test 4\n",
      "     Test 5\n",
      "Sample number 10:\n",
      "Enter x-position of mirror:7\n",
      "Enter y-position of mirror:6\n",
      "     Test 1\n",
      "     Test 2\n",
      "     Test 3\n",
      "     Test 4\n",
      "     Test 5\n"
     ]
    }
   ],
   "source": [
    "# Scan the surface\n",
    "\n",
    "for i in range(num_samples):\n",
    "    print('Scan {}:'.format(i+1))\n",
    "    x_in = float(input(\"Enter x-position of mirror:\"))\n",
    "    y_in = float(input(\"Enter y-position of mirror:\"))\n",
    "    for j in range(num_tests_per_sample):\n",
    "        print('     Test {}' .format(j+1))\n",
    "        stage_x.move_to(x_in)\n",
    "        stage_y.move_to(y_in)\n",
    "        x[i][j] = x_in\n",
    "        y[i][j] = y_in\n",
    "        data = cam.grab_image()\n",
    "        # dx[i][j],dy[i][j] = f.slopes(data)"
   ]
  },
  {
   "cell_type": "code",
   "execution_count": 11,
   "metadata": {},
   "outputs": [
    {
     "name": "stdout",
     "output_type": "stream",
     "text": [
      "[[0.1 0.1 0.1 0.1 0.1]\n",
      " [0.9 0.9 0.9 0.9 0.9]\n",
      " [0.8 0.8 0.8 0.8 0.8]\n",
      " [0.6 0.6 0.6 0.6 0.6]\n",
      " [0.6 0.6 0.6 0.6 0.6]\n",
      " [0.8 0.8 0.8 0.8 0.8]\n",
      " [1.  1.  1.  1.  1. ]\n",
      " [3.  3.  3.  3.  3. ]\n",
      " [5.  5.  5.  5.  5. ]\n",
      " [7.  7.  7.  7.  7. ]]\n",
      "[[0. 0. 0. 0. 0.]\n",
      " [0. 0. 0. 0. 0.]\n",
      " [0. 0. 0. 0. 0.]\n",
      " [0. 0. 0. 0. 0.]\n",
      " [0. 0. 0. 0. 0.]\n",
      " [0. 0. 0. 0. 0.]\n",
      " [0. 0. 0. 0. 0.]\n",
      " [0. 0. 0. 0. 0.]\n",
      " [0. 0. 0. 0. 0.]\n",
      " [0. 0. 0. 0. 0.]]\n"
     ]
    }
   ],
   "source": [
    "print(x)\n",
    "print(dx)\n",
    "\n",
    "np.savetxt(\"dx_curved.csv\", dx, delimiter=\",\", fmt = '%s')\n",
    "np.savetxt(\"x_curved.csv\", x, delimiter=\",\", fmt = '%s')"
   ]
  },
  {
   "cell_type": "code",
   "execution_count": 15,
   "metadata": {},
   "outputs": [
    {
     "name": "stdout",
     "output_type": "stream",
     "text": [
      "[0.1 0.9 0.8 0.6 0.6 0.8 1.  3.  5.  7. ]\n",
      "[[0. 0. 0. 0. 0. 0. 0. 0. 0. 0.]]\n"
     ]
    }
   ],
   "source": [
    "#Average the values from distinct tests\n",
    "\n",
    "x_pos = np.zeros((num_samples,1));\n",
    "dx_mean = np.zeros((num_samples,1));\n",
    "\n",
    "y_pos = np.zeros((num_samples,1));\n",
    "dy_mean = np.zeros((num_samples,1));\n",
    "\n",
    "for i in range(num_samples):\n",
    "    x_pos[i] = x[i][0];\n",
    "    y_pos[i] = y[i][0];\n",
    "    dx_mean[i] = np.mean(dx[i]);\n",
    "    dy_mean[i] = np.mean(dy[i]);\n",
    "    \n",
    "    \n",
    "x_pos = np.ndarray.flatten(x_pos)\n",
    "y_pos = np.ndarray.flatten(y_pos)\n",
    "dx_mean = np.transpose(dx_mean)\n",
    "dy_mean = np.transpose(dy_mean)\n",
    "\n",
    "print(x_pos)\n",
    "print(dx_mean)"
   ]
  },
  {
   "cell_type": "code",
   "execution_count": 8,
   "metadata": {},
   "outputs": [
    {
     "name": "stdout",
     "output_type": "stream",
     "text": [
      "[[0.         0.00019698 0.00039401 0.0005911  0.00078824 0.00098545\n",
      "  0.00118274 0.00138009 0.00157752 0.00177502]]\n",
      "[[0. 0. 0. 0. 0. 0. 0. 0. 0. 0.]]\n",
      "[[0.         0.00019698 0.00039401 0.0005911  0.00078824 0.00098545\n",
      "  0.00118274 0.00138009 0.00157752 0.00177502]]\n"
     ]
    }
   ],
   "source": [
    "surface_profile = p.profile2d(dx_mean,dy_mean,x_mean,y_mean)\n",
    "print (surface_profile)"
   ]
  },
  {
   "cell_type": "code",
   "execution_count": 10,
   "metadata": {},
   "outputs": [
    {
     "name": "stdout",
     "output_type": "stream",
     "text": [
      "11.142624236841101\n"
     ]
    }
   ],
   "source": [
    "#Initial angle from slope measurements\n",
    "angle = np.arctan(dx_mean[0][0])\n",
    "angle = angle * 180/np.pi\n",
    "print (angle)"
   ]
  },
  {
   "cell_type": "code",
   "execution_count": 11,
   "metadata": {},
   "outputs": [
    {
     "name": "stdout",
     "output_type": "stream",
     "text": [
      "11.142973732919673\n"
     ]
    }
   ],
   "source": [
    "#Initial angle from table dimensions\n",
    "d = 2.235\n",
    "w = 0.916\n",
    "angle = 0.5*np.arctan(w/d)*180/np.pi\n",
    "print (angle)"
   ]
  },
  {
   "cell_type": "code",
   "execution_count": 16,
   "metadata": {},
   "outputs": [
    {
     "data": {
      "image/png": "[encoded data removed]",
      "text/plain": [
       "<matplotlib.figure.Figure at 0x2377df1cc88>"
      ]
     },
     "metadata": {},
     "output_type": "display_data"
    }
   ],
   "source": [
    "#Plot of surface with angle\n",
    "import matplotlib.pyplot as plt\n",
    "profile_plot = np.ndarray.flatten(surface_profile)\n",
    "\n",
    "plt.ylabel('Surface height (in)')\n",
    "plt.xlabel('Scanning Distance (in)')\n",
    "plt.plot(x_mean,profile_plot)\n",
    "\n",
    "np.savetxt(\"curved_profile_angle.csv\", profile_plot, delimiter=\",\", fmt = '%s')"
   ]
  },
  {
   "cell_type": "code",
   "execution_count": 17,
   "metadata": {},
   "outputs": [
    {
     "data": {
      "image/png": "[encoded data removed]",
      "text/plain": [
       "<matplotlib.figure.Figure at 0x23700190630>"
      ]
     },
     "metadata": {},
     "output_type": "display_data"
    }
   ],
   "source": [
    "#Plot of surface without angle\n",
    "angle_slope = dx[0,0]\n",
    "profile_plot = np.ndarray.flatten(surface_profile)\n",
    "for i in range(np.size(profile_plot)):\n",
    "    profile_plot[i] = profile_plot[i] - angle_slope*x_mean[i]\n",
    "\n",
    "import matplotlib.pyplot as plt\n",
    "plt.ylabel('Surface height (in)')\n",
    "plt.xlabel('Scanning Distance (in)')\n",
    "plt.plot(x_mean,profile_plot)\n",
    "\n",
    "np.savetxt(\"curved_profile_noangle.csv\", profile_plot, delimiter=\",\", fmt = '%s')"
   ]
  }
 ],
 "metadata": {
  "kernelspec": {
   "display_name": "Python 3",
   "language": "python",
   "name": "python3"
  },
  "language_info": {
   "codemirror_mode": {
    "name": "ipython",
    "version": 3
   },
   "file_extension": ".py",
   "mimetype": "text/x-python",
   "name": "python",
   "nbconvert_exporter": "python",
   "pygments_lexer": "ipython3",
   "version": "3.6.4"
  }
 },
 "nbformat": 4,
 "nbformat_minor": 2
}
